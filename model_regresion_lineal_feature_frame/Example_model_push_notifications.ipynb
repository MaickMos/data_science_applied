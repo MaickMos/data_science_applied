{
 "cells": [
  {
   "cell_type": "code",
   "execution_count": null,
   "metadata": {},
   "outputs": [],
   "source": [
    "import pandas as pd\n",
    "from pathlib import Path\n",
    "import matplotlib.pyplot as plt"
   ]
  },
  {
   "cell_type": "code",
   "execution_count": null,
   "metadata": {},
   "outputs": [],
   "source": [
    "# path of the folder with .parquet\n",
    "folder_path = Path(\"D:/Users/maick/Desktop/Codigos/zrive-ds/data/box_builder_dataset/feature_frame.csv\")"
   ]
  },
  {
   "cell_type": "code",
   "execution_count": null,
   "metadata": {},
   "outputs": [],
   "source": [
    "info_cols = [\"variant_id\",\"order_id\",\"user_id\",\"created_at\",\"order_date\"]\n",
    "label_col = \"outcome\"\n",
    "features_cols = [col for col in df.columns if col not in info_cols + [label_col]]\n",
    "\n",
    "categorical_cols = [\"product_type\",\"vendor\"]\n",
    "binary_cols = [\"ordered_before\",\"abandoned_before\",\"active_snoozed\",\"set_asregular\"]\n",
    "numerical_cols = [\n",
    "    col for col in features_cols if col not in categorical_cols + binary_cols\n",
    "]"
   ]
  },
  {
   "cell_type": "code",
   "execution_count": null,
   "metadata": {},
   "outputs": [],
   "source": [
    "def push_relevant_dataframe(df,min_products):\n",
    "    order_size = df.groupby(\"order_id\").outcome.sum()\n",
    "    orders_of_min_size = order_size[order_size >= min_products].index\n",
    "    return df.loc[lambda x: x.order_id.isin(orders_of_min_size)]\n",
    "\n",
    "df_selected = (\n",
    "    df.pipe(push_relevant_dataframe)\n",
    "    .assign(created_at=lambda x: pd.to_datetime{x.created_at})\n",
    "    .assign(created_at=lambda x: pd.to_datetime{x.created_at})\n",
    ")"
   ]
  },
  {
   "cell_type": "code",
   "execution_count": null,
   "metadata": {},
   "outputs": [],
   "source": [
    "df.order_id.nunique=>df.df_selected.order_id.nunique()"
   ]
  }
 ],
 "metadata": {
  "language_info": {
   "name": "python"
  }
 },
 "nbformat": 4,
 "nbformat_minor": 2
}
